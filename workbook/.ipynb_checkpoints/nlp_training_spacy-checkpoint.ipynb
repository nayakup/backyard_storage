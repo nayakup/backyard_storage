{
 "cells": [
  {
   "cell_type": "markdown",
   "id": "7a3d0bb8",
   "metadata": {},
   "source": [
    "\n",
    "Documentation: http://spacy.pythonhumanities.com/intro.html\n",
    "Source: https://www.youtube.com/watch?v=dIUTsFT2MeQ\n",
    "Installation: https://spacy.io/usage\n"
   ]
  },
  {
   "cell_type": "code",
   "execution_count": null,
   "id": "aa13bb76",
   "metadata": {},
   "outputs": [],
   "source": [
    "import spacy\n",
    "\n",
    "\n",
    "# Load Spacy\n",
    "nlp = spacy.load(\"en_core_web_sm\")\n",
    "print(nlp)"
   ]
  }
 ],
 "metadata": {
  "kernelspec": {
   "display_name": "Python 3 (ipykernel)",
   "language": "python",
   "name": "python3"
  },
  "language_info": {
   "codemirror_mode": {
    "name": "ipython",
    "version": 3
   },
   "file_extension": ".py",
   "mimetype": "text/x-python",
   "name": "python",
   "nbconvert_exporter": "python",
   "pygments_lexer": "ipython3",
   "version": "3.10.5"
  }
 },
 "nbformat": 4,
 "nbformat_minor": 5
}
