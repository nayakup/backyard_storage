{
 "cells": [
  {
   "cell_type": "markdown",
   "id": "36e38a9e",
   "metadata": {},
   "source": [
    "\n",
    "Documentation: http://spacy.pythonhumanities.com/intro.html\n",
    "Source: https://www.youtube.com/watch?v=dIUTsFT2MeQ\n",
    "Installation: https://spacy.io/usage\n"
   ]
  },
  {
   "cell_type": "code",
   "execution_count": 4,
   "id": "95dc7e71",
   "metadata": {},
   "outputs": [
    {
     "name": "stdout",
     "output_type": "stream",
     "text": [
      "<spacy.lang.en.English object at 0x11e4bb730>\n"
     ]
    }
   ],
   "source": [
    "import spacy\n",
    "# Load Spacy\n",
    "nlp = spacy.load(\"en_core_web_sm\")\n",
    "print(nlp)"
   ]
  },
  {
   "cell_type": "code",
   "execution_count": null,
   "id": "690da574",
   "metadata": {},
   "outputs": [],
   "source": []
  }
 ],
 "metadata": {
  "kernelspec": {
   "display_name": "Python 3 (ipykernel)",
   "language": "python",
   "name": "python3"
  },
  "language_info": {
   "codemirror_mode": {
    "name": "ipython",
    "version": 3
   },
   "file_extension": ".py",
   "mimetype": "text/x-python",
   "name": "python",
   "nbconvert_exporter": "python",
   "pygments_lexer": "ipython3",
   "version": "3.10.5"
  }
 },
 "nbformat": 4,
 "nbformat_minor": 5
}
